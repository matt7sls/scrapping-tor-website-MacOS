{
 "cells": [
  {
   "cell_type": "code",
   "execution_count": 30,
   "metadata": {},
   "outputs": [],
   "source": [
    "# Install selenium (pip selenium)\n",
    "# Install tor Browser from : \"https://www.torproject.org/download/\"\n",
    "#\n",
    "# Geckodriver\n",
    "# For selenium to automate a browser, it requires a driver. Because the TOR browser is running off of Firefox, \n",
    "# we will be using Mozilla’s Geckodriver.\n",
    "#\n",
    "# Extract the driver here :\"https://github.com/mozilla/geckodriver/releases\" and put it in your ~/.local/bin folder\n",
    "# (\"/usr/local/bin\" for me in mac os)\n",
    "#\n",
    "# Find the location of the TOR browser’s Firefox binary and save the path somewhere, we'll need it later. \n",
    "# For me the path is : '/Applications/Tor Browser.app/Contents/MacOS/firefox'"
   ]
  },
  {
   "cell_type": "code",
   "execution_count": 7,
   "metadata": {},
   "outputs": [],
   "source": [
    "from selenium import webdriver\n",
    "from selenium.webdriver.firefox.firefox_binary import FirefoxBinary\n",
    "import pandas as pd"
   ]
  },
  {
   "cell_type": "code",
   "execution_count": 8,
   "metadata": {},
   "outputs": [],
   "source": [
    "binary = FirefoxBinary('/Applications/Tor Browser.app/Contents/MacOS/firefox') #replace my path by your path"
   ]
  },
  {
   "cell_type": "code",
   "execution_count": 9,
   "metadata": {},
   "outputs": [],
   "source": [
    "# Set the web driver up to use Firefox and pass the binary variable.\n",
    "driver = webdriver.Firefox(firefox_binary = binary) "
   ]
  },
  {
   "cell_type": "code",
   "execution_count": 11,
   "metadata": {},
   "outputs": [],
   "source": [
    "url = 'https://www.propub3r6espa33w.onion/'   "
   ]
  },
  {
   "cell_type": "code",
   "execution_count": 13,
   "metadata": {},
   "outputs": [],
   "source": [
    "driver.get(url)  "
   ]
  },
  {
   "cell_type": "code",
   "execution_count": 24,
   "metadata": {},
   "outputs": [
    {
     "data": {
      "text/plain": [
       "'Skip to main content\\nProPublica\\nIllinois\\nTexas\\nLocal Reporting Network\\nElectionland\\nData Store\\nDonate\\nGraphics & Data\\nNewsletters\\nAbout\\nEmail Address\\nRacial Justice\\nCriminal Justice\\nHealth Care\\nRegulation\\nMore…\\nSeries\\nVideo\\nImpact\\nSearch\\nFeatured Stories\\nWe Reviewed Police Tactics Seen in Nearly 400 Protest Videos. Here’s What We Found.\\nWe asked experts to watch videos showing officers using tear gas, pepper balls and explosives on protesters. Police actions often escalated confrontations.\\nby Talia Buford, Lucas Waldron, Moiz Syed and Al Shaw July 16, 6 a.m. EDT\\n“Outright Lies”: Voting Misinformation Flourishes on Facebook\\nby Ryan McCarthy July 16, 5 a.m. EDT\\nThousands of Small Business Owners Have Not Gotten Disaster Loans the Government Promised Them\\nby Isaac Arnsdorf July 16, 7 a.m. EDT\\nUNHEARD\\nAlaska has the highest rate of sexual assault in the nation. These women and men did not choose to be violated, but they now choose to speak about what happened.\\nTrump Is Donating Ventilators to Countries That Don’t Need or Can’t Use Them\\nby Yeganeh Torbati July 15, 12:51 p.m. EDT\\nThousands Demand Michigan #FreeGrace After Teenager Was Incarcerated for Not Doing Her Schoolwork\\nby Jodi S. Cohen July 15, 7:25 p.m. CDT\\nTurboTax and H&R Block Used “Unfair and Abusive Practices,” State Regulator Finds\\nThe investigation, which is ongoing, came after a ProPublica series showed that millions of Americans were coerced into paying for tax filing they should get for free.\\nby Justin Elliott July 15, 5:21 p.m. EDT\\nThe Cuomo Administration Hasn’t Said Which Nursing Homes Were Infected With COVID-19 After Its Order Sent Positive Patients Into Them\\nDozens of New York nursing homes didn’t see their first COVID-19 case until sick patients were sent there, many under Andrew Cuomo’s state policy. To date, 6% of the state’s nursing home population, or roughly 6,500 residents, have died.\\nby Joe Sexton and Joaquin Sapien July 15, 2:57 p.m. EDT\\nProPublica Illinois and Partners Win 3 Driehaus Awards\\nJuly 15, 10:20 a.m. CDT\\nHow McKinsey Is Making $100 Million (and Counting) Advising on the Government’s Bumbling Coronavirus Response\\nFor the world’s best-known corporate-management consultants, helping tackle the pandemic has been a bonanza. It’s not clear what the government has gotten in return.\\nby Ian MacDougall for ProPublica July 15, 5 a.m. EDT\\nOpioid Overdoses Keep Surging in Chicago, Killing Black People on the West Side\\nHalf of Cook County’s confirmed opioid-related deaths have been among Black residents, even though they make up less than a quarter of the county’s population. Officials warn that the COVID-19 pandemic has overshadowed the crisis.\\nby Duaa Eldeib and Melissa Sanchez July 14, 5:11 p.m. CDT\\nDifferent Names, Same Address: How Big Businesses Got Government Loans Meant for Small Businesses\\nProPublica found at least 15 large companies that received over half a billion dollars in PPP loans using the same technique: Getting multiple loans sent to smaller entities they own.\\nby Paul Kiel and Jack Gillum July 14, 12:40 p.m. EDT\\nA Teenager Didn’t Do Her Online Schoolwork. So a Judge Sent Her to Juvenile Detention.\\nA 15-year-old in Michigan was incarcerated during the coronavirus pandemic after a judge ruled that not completing her schoolwork violated her probation. “It just doesn’t make any sense,” said the girl’s mother.\\nby Jodi S. Cohen July 14, 4 a.m. CDT\\nNew Jersey Puts $578 Million in Controversial Tax Breaks on Hold After Investigation\\nA dozen companies that won tax breaks from New Jersey are under investigation, according to a task force created by Gov. Phil Murphy. Several companies are tied to George Norcross. WNYC and ProPublica investigated tax breaks in 2019.\\nNancy Solomon, WNYC July 13, 1:15 p.m. EDT\\nCommunity Storytelling Is Informing Our Coverage of Intellectual and Developmental Disability Services. Share Your Story.\\nJournalists have not always brought people with intellectual and developmental disabilities into the conversation. We’re trying to change that with our investigation into Arizona’s disability services. But we need your help.\\nby Beena Raghavendran and Maya Miller, ProPublica, and Amy Silverman for Arizona Daily Star July 13, 8 a.m. EDT\\nTrump Financial Regulator Quietly Shelved Discrimination Probes Into Bank of America and Other Lenders\\nAt least six investigations into discriminatory mortgage loan “redlining” have been halted or stalled — against staff recommendations — under the Trump administration’s Office of the Comptroller of the Currency.\\nby Patrick Rucker, The Capitol Forum July 13, 5 a.m. EDT\\nTrump Says He “Disagreed” With Privately Funded Border Wall, So Why Did His Administration Award the Builder $1.7 Billion?\\nTrump now claims the privately funded wall was built to “make me look bad,” even though the project’s builder and funders are Trump supporters.\\nby Perla Trevizo and Jeremy Schwartz July 12, 6:15 p.m. CDT\\nYou Can Make Millions Selling Masks to the Government in Three Easy Steps\\nThe federal government is essentially providing seed money to PPE startups, including some run by people accused of fraud. Mask brokers describe a simple blueprint for buying masks from China to get rich.\\nby J. David McSwane July 11, 5 a.m. EDT\\n“All the Hospitals Are Full”: In Houston, Overwhelmed ICUs Leave COVID-19 Patients Waiting in ERs\\nThe busiest hospitals in Houston are increasingly telling emergency responders they cannot safely accept new patients as hundreds of coronavirus patients crowd emergency rooms, and hospitals scramble to open more intensive care space.\\nby Charles Ornstein, ProPublica, and Mike Hixenbaugh, NBC News July 10, 2:15 p.m. EDT\\nAndrew Cuomo’s Report on Controversial Nursing Home Policy for COVID Patients Prompts More Controversy\\nA state report on Cuomo’s decision to order nursing homes to take in COVID positive patients in the early days of the pandemic fails to deal with the central question: did such admissions lead to more infection and death, and if so how significantly.\\nby Joaquin Sapien and Joe Sexton July 10, 1:08 p.m. EDT\\nThree Takeaways From the Supreme Court’s Decisions on Trump’s Tax and Financial Documents\\nThe Supreme Court finally ruled on whether Congress and investigators can obtain the president’s financial information. The answer is yes — but it’s a little more complicated than that.\\nby Katherine Sullivan, WNYC July 10, 11 a.m. EDT\\nBrowse the archive:\\nChoose a month\\nJuly 2020\\nJune 2020\\nMay 2020\\nApril 2020\\nMarch 2020\\nFebruary 2020\\nJanuary 2020\\nDecember 2019\\nNovember 2019\\nOctober 2019\\nSeptember 2019\\nAugust 2019\\nJuly 2019\\nJune 2019\\nMay 2019\\nApril 2019\\nMarch 2019\\nFebruary 2019\\nJanuary 2019\\nDecember 2018\\nNovember 2018\\nOctober 2018\\nSeptember 2018\\nAugust 2018\\nJuly 2018\\nJune 2018\\nMay 2018\\nApril 2018\\nMarch 2018\\nFebruary 2018\\nJanuary 2018\\nDecember 2017\\nNovember 2017\\nOctober 2017\\nSeptember 2017\\nAugust 2017\\nJuly 2017\\nJune 2017\\nMay 2017\\nApril 2017\\nMarch 2017\\nFebruary 2017\\nJanuary 2017\\nDecember 2016\\nNovember 2016\\nOctober 2016\\nSeptember 2016\\nAugust 2016\\nJuly 2016\\nJune 2016\\nMay 2016\\nApril 2016\\nMarch 2016\\nFebruary 2016\\nJanuary 2016\\nDecember 2015\\nNovember 2015\\nOctober 2015\\nSeptember 2015\\nAugust 2015\\nJuly 2015\\nJune 2015\\nMay 2015\\nApril 2015\\nMarch 2015\\nFebruary 2015\\nJanuary 2015\\nDecember 2014\\nNovember 2014\\nOctober 2014\\nSeptember 2014\\nAugust 2014\\nJuly 2014\\nJune 2014\\nMay 2014\\nApril 2014\\nMarch 2014\\nFebruary 2014\\nJanuary 2014\\nDecember 2013\\nNovember 2013\\nOctober 2013\\nSeptember 2013\\nAugust 2013\\nJuly 2013\\nJune 2013\\nMay 2013\\nApril 2013\\nMarch 2013\\nFebruary 2013\\nJanuary 2013\\nDecember 2012\\nNovember 2012\\nOctober 2012\\nSeptember 2012\\nAugust 2012\\nJuly 2012\\nJune 2012\\nMay 2012\\nApril 2012\\nMarch 2012\\nFebruary 2012\\nJanuary 2012\\nDecember 2011\\nNovember 2011\\nOctober 2011\\nSeptember 2011\\nAugust 2011\\nJuly 2011\\nJune 2011\\nMay 2011\\nApril 2011\\nMarch 2011\\nFebruary 2011\\nJanuary 2011\\nDecember 2010\\nNovember 2010\\nOctober 2010\\nSeptember 2010\\nAugust 2010\\nJuly 2010\\nJune 2010\\nMay 2010\\nApril 2010\\nMarch 2010\\nFebruary 2010\\nJanuary 2010\\nDecember 2009\\nNovember 2009\\nOctober 2009\\nSeptember 2009\\nAugust 2009\\nJuly 2009\\nJune 2009\\nMay 2009\\nApril 2009\\nMarch 2009\\nFebruary 2009\\nJanuary 2009\\nDecember 2008\\nNovember 2008\\nOctober 2008\\nSeptember 2008\\nAugust 2008\\nJuly 2008\\nJune 2008\\nMay 2008\\nApril 2008\\nMarch 2008\\nFebruary 2008\\nJanuary 2008\\nDecember 2007\\nNovember 2007\\nOctober 2007\\nFOLLOW PROPUBLICA\\nTwitter\\nFacebook\\nYouTube\\nRSS\\nIt’s not too late to\\nVote ProPublica\\nDONATE\\nAWARDS\\nProPublica has been a recipient of the Pulitzer Prizes for public service, explanatory reporting, national reporting, investigative reporting and feature writing. See the full list of our awards.\\nCOMPLAINTS & CORRECTIONS\\nTo contact us with concerns and corrections, email us. All emails may be published unless you tell us otherwise. Read our corrections.\\nMORE CORONAVIRUS COVERAGE\\nOur latest investigations into crisis response and public health infrastructure.\\nWe Want to Talk to People Working, Living and Grieving on the Front Lines of the Coronavirus. Help Us Report.\\nTracking PPP Loans: Search Every Company Approved for Federal Loans Over $150k\\nTrump Administration Discloses Some Recipients of $670 Billion Small Business Bailout\\nStates Are Reopening: See How Coronavirus Cases Rise or Fall\\nProPublica Nerd Blog\\nSecrets for data journalists and newsroom developers\\nProPublica Data Store\\nDownload or purchase the data behind our journalism\\nPODCAST: TRUMP, INC.\\nExploring the mysteries of the president’s businesses, who profits and at what cost.\\nGET INVOLVED\\nHas the NYPD Stopped a Teen You Know? Are You a Young Person With a Story to Share? We’d Like to Hear From You.\\nDid Your Job Give You Masks or Other Protective Gear? Send Us a Picture.\\nWhat’s Your Experience With Intellectual and Developmental Disability Care in Arizona?\\nMOST POPULAR STORIES\\nMost Read\\nMost Emailed\\nMost Read\\nA Teenager Didn’t Do Her Online Schoolwork. So a Judge Sent Her to Juvenile Detention.\\nHow McKinsey Is Making $100 Million (and Counting) Advising on the Government’s Bumbling Coronavirus Response\\nDifferent Names, Same Address: How Big Businesses Got Government Loans Meant for Small Businesses\\nTrump Is Donating Ventilators to Countries That Don’t Need or Can’t Use Them\\n“Outright Lies”: Voting Misinformation Flourishes on Facebook\\nMost Emailed\\nStay informed with the Daily Digest.\\nEnter your email\\nSite Navigation\\nSITES\\nProPublica\\nProPublica Illinois\\nLocal Reporting Network\\nThe Data Store\\nSECTIONS\\nTopics\\nSeries\\nVideos\\nNews Apps\\nGet Involved\\nThe Nerd Blog\\n@ProPublica\\nEvents\\nINFO\\nAbout Us\\nBoard and Advisors\\nOfficers and Staff\\nDiversity\\nJobs and Fellowships\\nMedia Center\\nReports\\nImpact\\nAwards\\nCorrections\\nPOLICIES\\nCode of Ethics\\nAdvertising Policy\\nPrivacy Policy\\nFOLLOW\\nNewsletters\\nPodcast\\niOS and Android\\nRSS Feed\\nMORE\\nSend Us Tips\\nSteal Our Stories\\nBrowse via Tor\\nContact Us\\nDonate\\nProPublica\\nJournalism in the Public Interest\\n© Copyright 2020 Pro Publica Inc.'"
      ]
     },
     "execution_count": 24,
     "metadata": {},
     "output_type": "execute_result"
    }
   ],
   "source": [
    "driver.find_element_by_xpath('/html').text"
   ]
  },
  {
   "cell_type": "code",
   "execution_count": 25,
   "metadata": {},
   "outputs": [],
   "source": [
    "url2 = 'https://www.nytimes.com/'"
   ]
  },
  {
   "cell_type": "code",
   "execution_count": 28,
   "metadata": {},
   "outputs": [],
   "source": [
    "driver.get(url2)"
   ]
  },
  {
   "cell_type": "code",
   "execution_count": 29,
   "metadata": {},
   "outputs": [
    {
     "data": {
      "text/plain": [
       "'SKIP TO CONTENT\\nSKIP TO SITE INDEX\\nThursday, July 16, 2020\\n19°C\\n20° 12°\\nSUBSCRIBE NOWLOG IN\\nListen to ‘The Daily’\\nRevisiting a restaurant in Louisiana.\\n‘On Tech With Shira Ovide’\\nJust collect less data, period.\\nSign Up: ‘At Home’\\nHow to live a full and cultured life during the pandemic, at home.\\nDire Numbers of Coronavirus Cases Prompt Mask Orders Across the U.S.\\nAs the country reported its second-highest single-day total of new cases, leaders scrambled to order masks and limit gatherings.\\nNew restrictions reflect the fact that the outbreak may worsen in the coming weeks and months.\\nFrance will require masks in all public indoor areas starting next week. Here’s the latest.\\nLive\\nSacramento\\nMax Whittaker for The New York Times\\n\\n\\n\\n\\n\\n\\nPhotosWorld CasesU.S. Curve\\nBusiness Updates: Retail Sales Rose and Jobless Claims Held Steady\\nRetail sales climbed 7.5% in June, and 1.3 million state unemployment claims were filed last week, virtually unchanged from the week before. Here’s the latest.\\nLive\\nWashington State Beat Back Covid-19. Now It’s Rising Again.\\nWashington was the initial center of the U.S. outbreak, and an early lockdown helped contain it. But a new wave is showing how complicated the fight may be.\\nUnited States ›\\nOn July 15\\n14-day change\\nTrend\\nNew cases\\n67,308\\n+44%\\nNew deaths\\n963\\n+51%\\nWhere cases are rising fastest\\nMont.\\nW.Va.\\nN.D.\\nP.R.\\nHawaii\\nIdaho\\nAlaska\\nOkla.\\nKy.\\nU.S. hot spots ›\\nWorldwide ›\\nShootings Have Soared. Is the N.Y.P.D. Pulling Back?\\nAs shootings go unsolved, some elected officials think that officers are staging a slowdown. But the department says that it is stretched thin.\\nThe pandemic took a toll on the police force this spring. John Taggart for The New York Times\\nU.S. Is Said to Weigh Travel Ban on Chinese Communist Party Members\\nThe sweeping presidential order, still in draft form, would be based on the same statute used in a 2017 travel ban on predominantly Muslim countries.\\nThe U.S. wants to bar members of China’s Communist Party. So who are they?\\nChina’s economy rebounded from its nose-dive, but uncertainty persists, raising questions for global growth.\\nA Brazen Online Attack Targets V.I.P. Twitter Users in a Bitcoin Scam\\nIn a major show of force, hackers breached some of the site’s most prominent accounts, a Who’s Who of Americans in politics, entertainment and tech.\\nEven if the Polls Are Really Off, President Trump Is Still in Trouble\\nJoe Biden’s lead is sufficient to cover a sizable error. And big problems with polling in 2016 have been addressed or become less relevant.\\nTrump Shakes Up Re-election Staff, Replacing His Campaign Manager\\nBill Stepien, the deputy campaign manager, will step into Brad Parscale’s job, according to people familiar with President Trump’s plans.\\nElection updates: There should have been a convention this week. Donors are backing Joe Biden. Here’s the latest.\\nLive\\nProtests Continue Daily in Louisville. Here’s a Look at 45 Days of Marches.\\nKentucky’s largest city has seen weeks of demonstrators demanding justice in the case of Breonna Taylor, who was killed by the police in her home there.\\nNorth Carolina City Approves Reparations for Black Residents\\nThe measure in Asheville, N.C., would provide funding to promote homeownership and business opportunities, but stopped short of stipulating direct payments.\\nNewly released footage from police body cameras shows a devastating account of George Floyd’s killing.\\nADVERTISEMENT\\nContinue reading the main story\\nOpinion\\nAnna Moneymaker for The New York Times\\nGail Collins\\nWho Can Make Trump Miserable This Fall?\\nGoodbye, Jeff Sessions, hello … Heir Archy.\\nIan Prasad Philbrick\\nIt’s Not Just You. America’s Leaders Are Getting Older.\\nAcross other wealthy democracies, leaders as old as Trump and Biden are vanishingly rare.\\nLinda Greenhouse\\nThe Many Dimensions of the Chief Justice’s Triumphant Term\\nIan Johnson\\nKicked Out of China, and Other Real-Life Costs of a Geopolitical Meltdown\\nAnton DiSclafani\\nMy Small Alabama Town, Masked and Unmasked\\nListen to ‘The Argument’: A Conversation With Tammy Duckworth\\nJoshua Wheeler\\nWhen America Bombed Itself\\nMohammed Hanif\\nWhat’s With All the Covid-Death Shaming?\\nMargaret Bourdeaux, Beth Cameron and Jonathan Zittrain\\nGovernors Must Save Us From Our Coronavirus Testing Failure\\nHaig Papazian\\nShe Waved a Rainbow Flag at Our Cairo Show. Tragedy Followed.\\nThe Editorial Board\\nWhy Does the N.Y.P.D. Want to Punish Journalists?\\nEditors’ Picks\\nIt’s a Tough Time to Be a Street Musician With a 900-Pound Piano\\nThe pandemic has been brutal to buskers. It’s even harder when you have to haul a Steinway all over New York City.\\nA Team by Any Other Name Is Fine, It Turns Out\\nThe Washington N.F.L. franchise is dropping its name. As other pro teams have learned, the process of rebranding can be as unique as the result.\\nBook Review: Reports From the ‘World Capital of Self-Immolations’\\n“Eat the Buddha” by Barbara Demick covers the heyday of the Tibetan empire to the present-day Tibetan effort at cultural and spiritual survival.\\nWe’d like your thoughts on the New York Times home page experience.\\nLet us know what you think\\nYour tracker settings\\nWe use cookies and similar methods to recognize visitors and remember their preferences. We also use them to measure ad campaign effectiveness, target ads and analyze site traffic. To learn more about these methods, including how to disable them, view our Cookie Policy.\\nBy clicking ‘accept,’ you consent to the processing of your data by us and third parties using the above methods. You can always change your tracker preferences by visiting our Cookie Policy.\\nACCEPT\\nMANAGE TRACKERS\\nSite Index\\nSite Information Navigation\\n© 2020 The New York Times Company\\nNYTCoContact UsWork with usAdvertiseT Brand StudioYour Ad ChoicesPrivacyTerms of ServiceTerms of SaleSite MapHelpSubscriptions'"
      ]
     },
     "execution_count": 29,
     "metadata": {},
     "output_type": "execute_result"
    }
   ],
   "source": [
    "driver.find_element_by_xpath('/html').text"
   ]
  },
  {
   "cell_type": "code",
   "execution_count": null,
   "metadata": {},
   "outputs": [],
   "source": [
    "# Source : \"https://towardsdatascience.com/how-to-scrape-the-dark-web-53145add7033\"\n",
    "# There are some Anti-crawling measures even with Tor Browser. They give some tips to bypass it."
   ]
  }
 ],
 "metadata": {
  "kernelspec": {
   "display_name": "Python 3",
   "language": "python",
   "name": "python3"
  },
  "language_info": {
   "codemirror_mode": {
    "name": "ipython",
    "version": 3
   },
   "file_extension": ".py",
   "mimetype": "text/x-python",
   "name": "python",
   "nbconvert_exporter": "python",
   "pygments_lexer": "ipython3",
   "version": "3.7.7"
  }
 },
 "nbformat": 4,
 "nbformat_minor": 4
}
